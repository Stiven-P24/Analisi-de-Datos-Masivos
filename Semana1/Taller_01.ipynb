{
  "nbformat": 4,
  "nbformat_minor": 0,
  "metadata": {
    "kernelspec": {
      "display_name": "Python 3",
      "language": "python",
      "name": "python3"
    },
    "language_info": {
      "codemirror_mode": {
        "name": "ipython",
        "version": 3
      },
      "file_extension": ".py",
      "mimetype": "text/x-python",
      "name": "python",
      "nbconvert_exporter": "python",
      "pygments_lexer": "ipython3",
      "version": "3.7.7"
    },
    "colab": {
      "provenance": []
    }
  },
  "cells": [
    {
      "cell_type": "markdown",
      "metadata": {
        "id": "eNxN2vxtYHLW"
      },
      "source": [
        "<h1 align=\"center\">Taller 01 - Programación Básica en Python</h1>\n",
        "\n",
        "Para los siguientes ejercicios realice el modelaje y el programa en Python que soluciona el problema en cuestión."
      ]
    },
    {
      "cell_type": "markdown",
      "metadata": {
        "id": "DQjvFApcYHLd"
      },
      "source": [
        "## Ejercicio 01\n",
        "\n",
        "Realice el modelaje y el programa en Python que resuelva el siguiente problema:\n",
        "\n",
        "> Una tienda de licores compra a su distribuidor cajas de vino que luego vende por botellas. Dado una caja de vino que tiene un costo $c$ y contiene\n",
        "> $n$ botellas, se desea calcular el precio $p$ al que se debe vender cada botella, de manera tal que se obtenga un 30% de utilidad sobre el costo\n",
        "> total de las caja."
      ]
    },
    {
      "cell_type": "markdown",
      "metadata": {
        "id": "0pOS-3OoYHLe"
      },
      "source": [
        "### Modelaje\n",
        "\n",
        "**Datos de Entrada:**\n",
        "\n",
        "Nombre | Identificador | Tipo\n",
        "---|---|---\n",
        "\n",
        "\n",
        "**Datos de Salida:**\n",
        "\n",
        "Nombre | Identificador | Tipo\n",
        "---|---|---"
      ]
    },
    {
      "cell_type": "code",
      "metadata": {
        "id": "T1JOFv7tYHLe",
        "colab": {
          "base_uri": "https://localhost:8080/"
        },
        "outputId": "3bd02db6-44e7-456a-fca9-824f19a0f672"
      },
      "source": [
        "# Programa en Python que resuelve el Ejercicio 01\n",
        "\n",
        "# 1. Leer los datos de entrada\n",
        "c=float(input(\"Ingrese costo x caja: \"))\n",
        "n=int(input(\"Ingrese cantidad de unidades x caja: \"))\n",
        "# 2. Calcular los datos de salida\n",
        "p=(c/n)*1.3\n",
        "# 3. Mostrar los datos de salida\n",
        "print(\"El precio de la botella con utilidad 30%; \", p)"
      ],
      "execution_count": null,
      "outputs": [
        {
          "output_type": "stream",
          "name": "stdout",
          "text": [
            "Ingrese costo x caja: 3000\n",
            "Ingrese cantidad de unidades x caja: 6\n",
            "El precio de la botella on utilidad 30%;  650.0\n"
          ]
        }
      ]
    },
    {
      "cell_type": "markdown",
      "metadata": {
        "id": "JOtyq3p7YHLf"
      },
      "source": [
        "---"
      ]
    },
    {
      "cell_type": "code",
      "source": [],
      "metadata": {
        "id": "uX_ZR6nwrEjf"
      },
      "execution_count": null,
      "outputs": []
    },
    {
      "cell_type": "markdown",
      "metadata": {
        "id": "G7u5vo-IYHLg"
      },
      "source": [
        "## Ejercicio 02\n",
        "\n",
        "Relice el modelaje y el programa en Python que resuelve el siguiente problema:\n",
        "\n",
        "> Se sabe que un profesor universitario contratado como catedrático, dedica una hora a\n",
        "> preparar una clase de dos horas y por cada cuatro horas de clase desarrolladas hace una\n",
        "> evaluación, la cual le toma dos horas calificar. Si al docente se le asigna un curso de $n$ horas\n",
        "> al semestre, ¿cuántas horas trabajará en total?"
      ]
    },
    {
      "cell_type": "markdown",
      "metadata": {
        "id": "a_fV0UJDYHLh"
      },
      "source": [
        "### Modelaje\n",
        "\n",
        "**Datos de Entrada:**\n",
        "\n",
        "Nombre | Identificador | Tipo\n",
        "---|---|---\n",
        "\n",
        "\n",
        "**Datos de Salida:**\n",
        "\n",
        "Nombre | Identificador | Tipo\n",
        "---|---|---"
      ]
    },
    {
      "cell_type": "code",
      "metadata": {
        "id": "h7xn_S0MYHLh",
        "colab": {
          "base_uri": "https://localhost:8080/"
        },
        "outputId": "a422e89a-1a65-4dfd-c975-71c3244be823"
      },
      "source": [
        "# Programa en Python que resuelve el Ejercicio 02\n",
        "\n",
        "# Programa en Python que resuelve el Ejercicio 02\n",
        "\n",
        "# 1. Leer los datos de entrada\n",
        "def calcular_horas_trabajo(n):\n",
        "  # 2. Calcular los datos de salida\n",
        "  horas_clase = n\n",
        "  horas_preparacion = n / 2\n",
        "  horas_calificacion = n / 2\n",
        "  horas_totales = horas_clase + horas_preparacion + horas_calificacion\n",
        "  return horas_totales\n",
        "\n",
        "n = int(input(\"Ingrese la cantidad de horas asignadas al semestre: \"))\n",
        "print(f\"El profesor trabajara un total de {calcular_horas_trabajo(n)} horas en el semestre.\")"
      ],
      "execution_count": null,
      "outputs": [
        {
          "output_type": "stream",
          "name": "stdout",
          "text": [
            "Ingrese la cantidad de horas asignadas al semestre: 56\n",
            "El profesor trabajara un total de 112.0 horas en el semestre.\n"
          ]
        }
      ]
    },
    {
      "cell_type": "markdown",
      "metadata": {
        "id": "YSOG3q8OYHLh"
      },
      "source": [
        "---"
      ]
    },
    {
      "cell_type": "markdown",
      "metadata": {
        "id": "YzY_5NR0YHLi"
      },
      "source": [
        "## Ejercicio 03\n",
        "\n",
        "Relice el modelaje y el programa en Python que resuelve el siguiente problema:\n",
        "\n",
        "> Un profesor diseña un examen con $n$ preguntas, estima que para calificar cada\n",
        "> pregunta requiere $m$ minutos. Si el examen se aplica a $m$ estudiantes, cuánto\n",
        "> tiempo (horas y minutos) necesita para calificar todos los exámenes."
      ]
    },
    {
      "cell_type": "markdown",
      "metadata": {
        "id": "YfYl7V9OYHLi"
      },
      "source": [
        "### Modelaje\n",
        "\n",
        "**Datos de Entrada:**\n",
        "\n",
        "Nombre | Identificador | Tipo\n",
        "---|---|---\n",
        "\n",
        "\n",
        "**Datos de Salida:**\n",
        "\n",
        "Nombre | Identificador | Tipo\n",
        "---|---|---"
      ]
    },
    {
      "cell_type": "code",
      "metadata": {
        "id": "OFoJWdIyYHLi",
        "colab": {
          "base_uri": "https://localhost:8080/"
        },
        "outputId": "e57814ea-ac11-4966-9cb2-8c9e0397dd3a"
      },
      "source": [
        "# Programa en Python que resuelve el Ejercicio 03\n",
        "\n",
        "# 1. Leer los datos de entrada\n",
        "n = int(input(\"Ingrese la cantidad de preguntas en el examen: \"))\n",
        "m = int(input (\"Ingrese el tiempo (minutos) que toma para calificar cada pregunta: \"))\n",
        "e = int(input (\"Ingrese la cantidad de estudiantes: \"))\n",
        "\n",
        "# 2. Calcular los datos de salida\n",
        "tiempo_total_minutos = n * m * e\n",
        "horas = tiempo_total_minutos // 60\n",
        "minutos = tiempo_total_minutos % 60\n",
        "\n",
        "# 3. Mostrar los datos de salida\n",
        "print(f\"El profesor necesitara {horas} horas y {minutos} minutos para calificar todos los examenes.\")\n"
      ],
      "execution_count": null,
      "outputs": [
        {
          "output_type": "stream",
          "name": "stdout",
          "text": [
            "Ingrese la cantidad de preguntas en el examen: 20\n",
            "Ingrese el tiempo (minutos) que toma para calificar cada pregunta: 50\n",
            "Ingrese la cantidad de estudiantes: 40\n",
            "El profesor necesitara 666 horas y 40 minutos para calificar todos los examenes.\n"
          ]
        }
      ]
    },
    {
      "cell_type": "markdown",
      "metadata": {
        "id": "IEvygdAiYHLi"
      },
      "source": [
        "---"
      ]
    },
    {
      "cell_type": "markdown",
      "metadata": {
        "id": "a3VfHWTcYHLj"
      },
      "source": [
        "## Ejercicio 04\n",
        "\n",
        "Realice el modelaje y el programa en Python que resuelva el siguiente problema:\n",
        "\n",
        "> Tres personas deciden invertir su dinero para fundar una empresa. Cada una de ellas\n",
        "> invierte una cantidad distinta. Obtener el porcentaje que cada cual invierte con\n",
        "> respecto a la cantidad total invertida."
      ]
    },
    {
      "cell_type": "markdown",
      "metadata": {
        "id": "4g4XV165YHLj"
      },
      "source": [
        "### Modelaje\n",
        "\n",
        "**Datos de Entrada:**\n",
        "\n",
        "Nombre | Identificador | Tipo\n",
        "---|---|---\n",
        "Inversionista|a|float\n",
        "Inversionista|b|float\n",
        "Inversionista|c|float\n",
        "\n",
        "**Datos de Salida:**\n",
        "\n",
        "Nombre | Identificador | Tipo\n",
        "---|---|---\n",
        "Porcentaje|d|float\n",
        "Porcentaje|e|float\n",
        "Porcentaje|f|float\n"
      ]
    },
    {
      "cell_type": "code",
      "metadata": {
        "id": "tTjA1Z4BYHLj",
        "colab": {
          "base_uri": "https://localhost:8080/"
        },
        "outputId": "b1c5350a-55fa-436e-d678-3c98db154dde"
      },
      "source": [
        "# Programa en Python que resuelve el Ejercicio 04\n",
        "\n",
        "# 1. Leer los datos de entrada\n",
        "a=float(input(\"Ingrese la cantidad invertida por la persona a: \"))\n",
        "b=float(input(\"Ingrese la cantidad invertida por la persona b: \"))\n",
        "c=float(input(\"Ingrese la cantidad invertida por la persona c: \"))\n",
        "# 2. Calcular los datos de salida\n",
        "t=a+b+c\n",
        "d=(a*100)/t\n",
        "e=(b*100)/t\n",
        "f=(c*100)/t\n",
        "# 3. Mostrar los datos de salida\n",
        "print(\"El porcentaje invertido por la persona a es: \", d)\n",
        "print(\"El porcentaje invertido por la persona b es: \", e)\n",
        "print(\"El porcentaje invertido por la persona c es: \", f)\n"
      ],
      "execution_count": null,
      "outputs": [
        {
          "output_type": "stream",
          "name": "stdout",
          "text": [
            "Ingrese la cantidad invertida por la persona a: 50000\n",
            "Ingrese la cantidad invertida por la persona b: 20000\n",
            "Ingrese la cantidad invertida por la persona c: 30000\n",
            "El porcentaje invertido por la persona a es:  50.0\n",
            "El porcentaje invertido por la persona b es:  20.0\n",
            "El porcentaje invertido por la persona c es:  30.0\n"
          ]
        }
      ]
    },
    {
      "cell_type": "markdown",
      "metadata": {
        "id": "lW8DImOGYHLk"
      },
      "source": [
        "---"
      ]
    },
    {
      "cell_type": "markdown",
      "metadata": {
        "id": "NpINU3o0YHLk"
      },
      "source": [
        "## Ejercicio 05\n",
        "\n",
        "Realice el modelaje y el programa en Python que resuelva el siguiente problema:\n",
        "\n",
        "> Un estudiante desea saber cuál será su calificación final en Programación. Dicha\n",
        "> calificación se compone del promedio de tres notas parciales. Cada nota parcial se\n",
        "> obtiene a partir de un taller, una evaluación teórica y una evaluación práctica. Los\n",
        "> talleres equivalen al 25% de la nota del parcial, las evaluaciones teóricas al 35% y las\n",
        "> evaluaciones prácticas al 40%."
      ]
    },
    {
      "cell_type": "markdown",
      "metadata": {
        "id": "3I5XNUeSYHLk"
      },
      "source": [
        "### Modelaje\n",
        "\n",
        "**Datos de Entrada:**\n",
        "\n",
        "Nombre | Identificador | Tipo\n",
        "---|---|---\n",
        "taller|a|float|\n",
        "teorica|b|float|\n",
        "practica|c|float|\n",
        "**Datos de Salida:**\n",
        "\n",
        "Nombre | Identificador | Tipo\n",
        "---|---|---\n",
        "Nota1|d|float|\n",
        "Nota2|e|float|\n",
        "Nota3|f|float|"
      ]
    },
    {
      "cell_type": "code",
      "metadata": {
        "id": "Aktm-_O3YHLk",
        "colab": {
          "base_uri": "https://localhost:8080/"
        },
        "outputId": "f4aafa51-8e59-494f-fe6a-8f69b573b3af"
      },
      "source": [
        "# Programa en Python que resuelve el Ejercicio 05\n",
        "\n",
        "# 1. Leer los datos de entrada\n",
        "a=float(input(\"Ingrese la nota del taller: \"))\n",
        "b=float(input(\"Ingrese la nota de la evaluacion teorica: \"))\n",
        "c=float(input(\"Ingrese la nota de la evaluacion practica \"))\n",
        "# 2. Calcular los datos de salida\n",
        "d=(a*0.25)\n",
        "e=(b*0.35)\n",
        "f=(c*0.40)\n",
        "n=d+e+f\n",
        "# 3. Mostrar los datos de salida\n",
        "print(\"La nota final es: \", n)"
      ],
      "execution_count": null,
      "outputs": [
        {
          "output_type": "stream",
          "name": "stdout",
          "text": [
            "Ingrese la nota del taller: 3\n",
            "Ingrese la nota de la evaluacion teorica: 2\n",
            "Ingrese la nota de la evaluacion practica 4\n",
            "La nota final es:  3.05\n"
          ]
        }
      ]
    },
    {
      "cell_type": "markdown",
      "metadata": {
        "id": "gsTfNCWpYHLl"
      },
      "source": [
        "---"
      ]
    },
    {
      "cell_type": "markdown",
      "metadata": {
        "id": "0cpIdGmPYHLl"
      },
      "source": [
        "## Ejercicio 06\n",
        "\n",
        "Realice el modelaje y el programa en Python que resuelve el siguiente problema:\n",
        "\n",
        "> Leer un número entero de cuatro dígitos y separar sus dígitos en: miles, centenas, decenas y unidades."
      ]
    },
    {
      "cell_type": "markdown",
      "metadata": {
        "id": "v7o_H3GcYHLl"
      },
      "source": [
        "### Modelaje\n",
        "\n",
        "**Datos de Entrada:**\n",
        "\n",
        "Nombre | Identificador | Tipo\n",
        "---|---|---\n",
        "\n",
        "\n",
        "**Datos de Salida:**\n",
        "\n",
        "Nombre | Identificador | Tipo\n",
        "---|---|---"
      ]
    },
    {
      "cell_type": "code",
      "metadata": {
        "id": "lDf_iVecYHLl",
        "colab": {
          "base_uri": "https://localhost:8080/"
        },
        "outputId": "f64e8225-cbe7-4446-fd42-2c3374e8151b"
      },
      "source": [
        "# Programa en Python que resuelve el Ejercicio 06\n",
        "\n",
        "def separar_digitos(numero):\n",
        "    miles = numero // 1000\n",
        "    centenas = (numero % 1000) // 100\n",
        "    decenas = (numero % 100) // 10\n",
        "    unidades = numero % 10\n",
        "    return miles, centenas, decenas, unidades\n",
        "\n",
        "def main():\n",
        "    numero = int(input(\"Ingrese un número entero de cuatro dígitos: \"))\n",
        "    if 1000 <= numero <= 9999:\n",
        "        miles, centenas, decenas, unidades = separar_digitos(numero)\n",
        "        print(f\"Miles: {miles}, Centenas: {centenas}, Decenas: {decenas}, Unidades: {unidades}\")\n",
        "    else:\n",
        "        print(\"El número ingresado no tiene cuatro dígitos.\")\n",
        "\n",
        "# Ejecutar el programa\n",
        "main()\n",
        "# 1. Leer los datos de entrada\n",
        "\n",
        "# 2. Calcular los datos de salida\n",
        "\n",
        "# 3. Mostrar los datos de salida\n"
      ],
      "execution_count": null,
      "outputs": [
        {
          "output_type": "stream",
          "name": "stdout",
          "text": [
            "Ingrese un número entero de cuatro dígitos: 1000\n",
            "Miles: 1, Centenas: 0, Decenas: 0, Unidades: 0\n"
          ]
        }
      ]
    },
    {
      "cell_type": "markdown",
      "metadata": {
        "id": "-ZrzR23MYHLl"
      },
      "source": [
        "---"
      ]
    },
    {
      "cell_type": "markdown",
      "metadata": {
        "id": "tpeByvtcYHLm"
      },
      "source": [
        "## Ejercicio 07\n",
        "\n",
        "Escriba el modelaje y el programa en Python que resuelva el siguiente problema:\n",
        "\n",
        "> Las utilidades de una empresa se distribuyen entre tres socios así: socio A = 40%,\n",
        "> socio B = 25% y socio C = 35%. Dada una cantidad de dinero ¿cuánto corresponderá\n",
        "> a cada uno?"
      ]
    },
    {
      "cell_type": "markdown",
      "metadata": {
        "id": "XB79WbZvYHLm"
      },
      "source": [
        "### Modelaje\n",
        "\n",
        "**Datos de Entrada:**\n",
        "\n",
        "Nombre | Identificador | Tipo\n",
        "---|---|---\n",
        "\n",
        "\n",
        "**Datos de Salida:**\n",
        "\n",
        "Nombre | Identificador | Tipo\n",
        "---|---|---"
      ]
    },
    {
      "cell_type": "code",
      "metadata": {
        "id": "C1x7Q3UZYHLm",
        "colab": {
          "base_uri": "https://localhost:8080/"
        },
        "outputId": "e1a9d554-1f7c-4fac-ea2c-f986b451b670"
      },
      "source": [
        "# Programa en Python que resuelve el Ejercicio 07\n",
        "\n",
        "# Ejecutar el programa\n",
        "main()\n",
        "\n",
        "# 1. Leer los datos de entrada\n",
        "def calcular_utilidades(monto):\n",
        "    socio_a = monto * 0.40\n",
        "    socio_b = monto * 0.25\n",
        "    socio_c = monto * 0.35\n",
        "    return socio_a, socio_b, socio_c\n",
        "\n",
        "# 2. Calcular los datos de salida\n",
        "def main():\n",
        "    monto = float(input(\"Ingrese la cantidad de dinero a distribuir: \"))\n",
        "    socio_a, socio_b, socio_c = calcular_utilidades(monto)\n",
        "    print(f\"Socio A: {socio_a:.2f}, Socio B: {socio_b:.2f}, Socio C: {socio_c:.2f}\")\n",
        "\n",
        "# 3. Mostrar los datos de salida\n"
      ],
      "execution_count": 5,
      "outputs": [
        {
          "output_type": "stream",
          "name": "stdout",
          "text": [
            "Ingrese la cantidad de dinero a distribuir: 1000\n",
            "Socio A: 400.00, Socio B: 250.00, Socio C: 350.00\n"
          ]
        }
      ]
    },
    {
      "cell_type": "code",
      "source": [],
      "metadata": {
        "id": "njHv4BxXp03n"
      },
      "execution_count": null,
      "outputs": []
    },
    {
      "cell_type": "code",
      "source": [],
      "metadata": {
        "id": "YC2qZzA1p1Hp"
      },
      "execution_count": null,
      "outputs": []
    },
    {
      "cell_type": "markdown",
      "metadata": {
        "id": "aQ5_VoDOYHLm"
      },
      "source": [
        "---"
      ]
    },
    {
      "cell_type": "markdown",
      "metadata": {
        "id": "m_hqnhNHYHLm"
      },
      "source": [
        "## Ejercicio 08\n",
        "\n",
        "Realice el modelaje y el programa en Python que resuelva el siguiente problema:\n",
        "\n",
        "> Calcular el área y el perímetro de un rectángulo de altura $a$ y base $b$.\n",
        "\n",
        "![area rectangulo](https://calculo.cc/temas/temas_geometria/perimetro_area/imagenes/teoria/perim_area/rectangulo.gif)"
      ]
    },
    {
      "cell_type": "markdown",
      "metadata": {
        "id": "56xgB7AbYHLn"
      },
      "source": [
        "### Modelaje\n",
        "\n",
        "**Datos de Entrada:**\n",
        "\n",
        "Nombre | Identificador | Tipo\n",
        "---|---|---\n",
        "\n",
        "\n",
        "**Datos de Salida:**\n",
        "\n",
        "Nombre | Identificador | Tipo\n",
        "---|---|---"
      ]
    },
    {
      "cell_type": "code",
      "metadata": {
        "id": "YYOYZnKnYHLn",
        "colab": {
          "base_uri": "https://localhost:8080/"
        },
        "outputId": "0d9ef5ee-350b-49f0-fc47-673af5bfbb93"
      },
      "source": [
        "# Programa en Python que resuelve el Ejercicio 08\n",
        "\n",
        "# 1. Leer los datos de entrada\n",
        "a = float(input(\"Ingrese la altura del rectángulo: \"))\n",
        "b = float(input(\"Ingrese la base del rectángulo: \"))\n",
        "\n",
        "# 2. Calcular los datos de salida\n",
        "area = a * b\n",
        "perimetro = 2 * (a + b)\n",
        "\n",
        "# 3. Mostrar los datos de salida\n",
        "print(\"El área del rectángulo es:\", area)\n",
        "print(\"El perímetro del rectángulo es:\", perimetro)\n"
      ],
      "execution_count": null,
      "outputs": [
        {
          "output_type": "stream",
          "name": "stdout",
          "text": [
            "Ingrese la altura del rectángulo: 30\n",
            "Ingrese la base del rectángulo: 30\n",
            "El área del rectángulo es: 900.0\n",
            "El perímetro del rectángulo es: 120.0\n"
          ]
        }
      ]
    },
    {
      "cell_type": "markdown",
      "metadata": {
        "id": "DMyFBm9EYHLn"
      },
      "source": [
        "---"
      ]
    },
    {
      "cell_type": "markdown",
      "metadata": {
        "id": "2_25vEzuYHLn"
      },
      "source": [
        "## Ejercicio 09\n",
        "\n",
        "Escriba el modelaje y un programa en Python que resuelva el siguiente problema:\n",
        "\n",
        "> Un vendedor recibe un 10% de comisión sobre sus ventas. Si en\n",
        "> un mes cualquiera hace tres ventas por valores diferentes ¿cuánto recibirá por\n",
        "> comisión en cada una de las ventas? y ¿cuánto en total?"
      ]
    },
    {
      "source": [
        "# 1. Leer los datos de entrada\n",
        "venta1 = float(input(\"Ingrese el valor de la venta 1: \"))\n",
        "venta2 = float(input(\"Ingrese el valor de la venta 2: \"))\n",
        "venta3 = float(input(\"Ingrese el valor de la venta 3: \"))\n",
        "\n",
        "# 2. Calcular los datos de salida\n",
        "comision1 = venta1 * 0.10\n",
        "comision2 = venta2 * 0.10\n",
        "comision3 = venta3 * 0.10\n",
        "comision_total = comision1 + comision2 + comision3\n",
        "\n",
        "# 3. Mostrar los datos de salida\n",
        "print(\"Comisión venta 1:\", comision1)\n",
        "print(\"Comisión venta 2:\", comision2)\n",
        "print(\"Comisión venta 3:\", comision3)\n",
        "print(\"Comisión total:\", comision_total)"
      ],
      "cell_type": "code",
      "metadata": {
        "colab": {
          "base_uri": "https://localhost:8080/",
          "height": 365
        },
        "id": "tqUoeNjuvm07",
        "outputId": "a8171504-5a3b-4343-81fb-a2293dd799ea"
      },
      "execution_count": 12,
      "outputs": [
        {
          "output_type": "error",
          "ename": "KeyboardInterrupt",
          "evalue": "Interrupted by user",
          "traceback": [
            "\u001b[0;31m---------------------------------------------------------------------------\u001b[0m",
            "\u001b[0;31mKeyboardInterrupt\u001b[0m                         Traceback (most recent call last)",
            "\u001b[0;32m<ipython-input-12-959d1083f611>\u001b[0m in \u001b[0;36m<cell line: 0>\u001b[0;34m()\u001b[0m\n\u001b[1;32m      1\u001b[0m \u001b[0;31m# 1. Leer los datos de entrada\u001b[0m\u001b[0;34m\u001b[0m\u001b[0;34m\u001b[0m\u001b[0m\n\u001b[0;32m----> 2\u001b[0;31m \u001b[0mventa1\u001b[0m \u001b[0;34m=\u001b[0m \u001b[0mfloat\u001b[0m\u001b[0;34m(\u001b[0m\u001b[0minput\u001b[0m\u001b[0;34m(\u001b[0m\u001b[0;34m\"Ingrese el valor de la venta 1: \"\u001b[0m\u001b[0;34m)\u001b[0m\u001b[0;34m)\u001b[0m\u001b[0;34m\u001b[0m\u001b[0;34m\u001b[0m\u001b[0m\n\u001b[0m\u001b[1;32m      3\u001b[0m \u001b[0mventa2\u001b[0m \u001b[0;34m=\u001b[0m \u001b[0mfloat\u001b[0m\u001b[0;34m(\u001b[0m\u001b[0minput\u001b[0m\u001b[0;34m(\u001b[0m\u001b[0;34m\"Ingrese el valor de la venta 2: \"\u001b[0m\u001b[0;34m)\u001b[0m\u001b[0;34m)\u001b[0m\u001b[0;34m\u001b[0m\u001b[0;34m\u001b[0m\u001b[0m\n\u001b[1;32m      4\u001b[0m \u001b[0mventa3\u001b[0m \u001b[0;34m=\u001b[0m \u001b[0mfloat\u001b[0m\u001b[0;34m(\u001b[0m\u001b[0minput\u001b[0m\u001b[0;34m(\u001b[0m\u001b[0;34m\"Ingrese el valor de la venta 3: \"\u001b[0m\u001b[0;34m)\u001b[0m\u001b[0;34m)\u001b[0m\u001b[0;34m\u001b[0m\u001b[0;34m\u001b[0m\u001b[0m\n\u001b[1;32m      5\u001b[0m \u001b[0;34m\u001b[0m\u001b[0m\n",
            "\u001b[0;32m/usr/local/lib/python3.11/dist-packages/ipykernel/kernelbase.py\u001b[0m in \u001b[0;36mraw_input\u001b[0;34m(self, prompt)\u001b[0m\n\u001b[1;32m    849\u001b[0m                 \u001b[0;34m\"raw_input was called, but this frontend does not support input requests.\"\u001b[0m\u001b[0;34m\u001b[0m\u001b[0;34m\u001b[0m\u001b[0m\n\u001b[1;32m    850\u001b[0m             )\n\u001b[0;32m--> 851\u001b[0;31m         return self._input_request(str(prompt),\n\u001b[0m\u001b[1;32m    852\u001b[0m             \u001b[0mself\u001b[0m\u001b[0;34m.\u001b[0m\u001b[0m_parent_ident\u001b[0m\u001b[0;34m,\u001b[0m\u001b[0;34m\u001b[0m\u001b[0;34m\u001b[0m\u001b[0m\n\u001b[1;32m    853\u001b[0m             \u001b[0mself\u001b[0m\u001b[0;34m.\u001b[0m\u001b[0m_parent_header\u001b[0m\u001b[0;34m,\u001b[0m\u001b[0;34m\u001b[0m\u001b[0;34m\u001b[0m\u001b[0m\n",
            "\u001b[0;32m/usr/local/lib/python3.11/dist-packages/ipykernel/kernelbase.py\u001b[0m in \u001b[0;36m_input_request\u001b[0;34m(self, prompt, ident, parent, password)\u001b[0m\n\u001b[1;32m    893\u001b[0m             \u001b[0;32mexcept\u001b[0m \u001b[0mKeyboardInterrupt\u001b[0m\u001b[0;34m:\u001b[0m\u001b[0;34m\u001b[0m\u001b[0;34m\u001b[0m\u001b[0m\n\u001b[1;32m    894\u001b[0m                 \u001b[0;31m# re-raise KeyboardInterrupt, to truncate traceback\u001b[0m\u001b[0;34m\u001b[0m\u001b[0;34m\u001b[0m\u001b[0m\n\u001b[0;32m--> 895\u001b[0;31m                 \u001b[0;32mraise\u001b[0m \u001b[0mKeyboardInterrupt\u001b[0m\u001b[0;34m(\u001b[0m\u001b[0;34m\"Interrupted by user\"\u001b[0m\u001b[0;34m)\u001b[0m \u001b[0;32mfrom\u001b[0m \u001b[0;32mNone\u001b[0m\u001b[0;34m\u001b[0m\u001b[0;34m\u001b[0m\u001b[0m\n\u001b[0m\u001b[1;32m    896\u001b[0m             \u001b[0;32mexcept\u001b[0m \u001b[0mException\u001b[0m \u001b[0;32mas\u001b[0m \u001b[0me\u001b[0m\u001b[0;34m:\u001b[0m\u001b[0;34m\u001b[0m\u001b[0;34m\u001b[0m\u001b[0m\n\u001b[1;32m    897\u001b[0m                 \u001b[0mself\u001b[0m\u001b[0;34m.\u001b[0m\u001b[0mlog\u001b[0m\u001b[0;34m.\u001b[0m\u001b[0mwarning\u001b[0m\u001b[0;34m(\u001b[0m\u001b[0;34m\"Invalid Message:\"\u001b[0m\u001b[0;34m,\u001b[0m \u001b[0mexc_info\u001b[0m\u001b[0;34m=\u001b[0m\u001b[0;32mTrue\u001b[0m\u001b[0;34m)\u001b[0m\u001b[0;34m\u001b[0m\u001b[0;34m\u001b[0m\u001b[0m\n",
            "\u001b[0;31mKeyboardInterrupt\u001b[0m: Interrupted by user"
          ]
        }
      ]
    },
    {
      "cell_type": "markdown",
      "metadata": {
        "id": "b3ZXlpEXYHLn"
      },
      "source": [
        "### Modelaje\n",
        "\n",
        "**Datos de Entrada:**\n",
        "\n",
        "Nombre | Identificador | Tipo\n",
        "---|---|---\n",
        "Venta1|venta1|float\n",
        "Venta2|venta2|float\n",
        "Venta3|venta3|float\n",
        "\n",
        "**Datos de Salida:**\n",
        "\n",
        "Nombre | Identificador | Tipo\n",
        "---|---|---\n",
        "Comision Venta 1|comision1|float\n",
        "Comision Venta 2|comision2|float\n",
        "Comision Venta 3|comision3|float"
      ]
    },
    {
      "cell_type": "code",
      "metadata": {
        "id": "oCa9IPGCYHLo",
        "colab": {
          "base_uri": "https://localhost:8080/"
        },
        "outputId": "483b937b-78f9-4489-d988-1d8ce0c4724f"
      },
      "source": [
        "# Programa en Python que resuelve el Ejercicio 09\n",
        "# 1. Leer los datos de entrada\n",
        "venta1 = float(input(\"Ingrese el valor de la venta 1: \"))\n",
        "venta2 = float(input(\"Ingrese el valor de la venta 2: \"))\n",
        "venta3 = float(input(\"Ingrese el valor de la venta 3: \"))\n",
        "\n",
        "# 2. Calcular los datos de salida\n",
        "comision1 = venta1 * 0.10\n",
        "comision2 = venta2 * 0.10\n",
        "comision3 = venta3 * 0.10\n",
        "comision_total = comision1 + comision2 + comision3\n",
        "\n",
        "# 3. Mostrar los datos de salida\n",
        "print(\"Comisión venta 1:\", comision1)\n",
        "print(\"Comisión venta 2:\", comision2)\n",
        "print(\"Comisión venta 3:\", comision3)\n",
        "print(\"Comisión total:\", comision_total)\n",
        "\n"
      ],
      "execution_count": null,
      "outputs": [
        {
          "output_type": "stream",
          "name": "stdout",
          "text": [
            "Ingrese el valor de la venta 1: 10000\n",
            "Ingrese el valor de la venta 2: 20000\n",
            "Ingrese el valor de la venta 3: 30000\n",
            "Comisión venta 1: 1000.0\n",
            "Comisión venta 2: 2000.0\n",
            "Comisión venta 3: 3000.0\n",
            "Comisión total: 6000.0\n"
          ]
        }
      ]
    },
    {
      "cell_type": "markdown",
      "metadata": {
        "id": "J784zx-GYHLo"
      },
      "source": [
        "---"
      ]
    },
    {
      "cell_type": "markdown",
      "metadata": {
        "id": "qiuhJpGBYHLp"
      },
      "source": [
        "## Ejercicio 10\n",
        "\n",
        "Escriba el modelaje y un programa en Python que resuelva el siguiente problema:\n",
        "\n",
        "> Una tienda vende tres tipos diferentes de productos: los productos tipo ‘A’ que cuestan cada uno 1000 pesos; los productos tipo ‘C’, que cuesta cada uno dos mil quinientos pesos y los productos tipo ‘Z’, donde cada uno cuesta tres mil pesos. Queremos que a partir del número de productos que compraron de cada tipo de producto en un día, determine el valor total recolectado por la tienda gracias a la venta de esos productos en el día."
      ]
    },
    {
      "cell_type": "markdown",
      "metadata": {
        "id": "ZLTq-NWUYHLp"
      },
      "source": [
        "### Modelaje\n",
        "\n",
        "**Datos de Entrada:**\n",
        "\n",
        "Nombre | Identificador | Tipo\n",
        "---|---|---\n",
        "Cantidad de productos tipo A| cantidad_A| int\n",
        "Cantidad de productos tipo B| cantidad_B| int\n",
        "Cantidad de productos tipo Z| cantidad_Z| int\n",
        "\n",
        "**Datos de Salida:**\n",
        "\n",
        "Nombre | Identificador | Tipo\n",
        "---|---|---\n",
        "Valor Total Recolectado| valor_total| float"
      ]
    },
    {
      "cell_type": "code",
      "metadata": {
        "id": "zI8UY-ASYHLp",
        "colab": {
          "base_uri": "https://localhost:8080/"
        },
        "outputId": "04c4076c-a67d-4405-af96-6fa7cd7115b0"
      },
      "source": [
        "# Programa en Python que resuelve el Ejercicio 10\n",
        "# 1. Leer los datos de entrada\n",
        "cantidad_A = int(input(\"Ingrese la cantidad de productos tipo A vendidos: \"))\n",
        "cantidad_C = int(input(\"Ingrese la cantidad de productos tipo C vendidos: \"))\n",
        "cantidad_Z = int(input(\"Ingrese la cantidad de productos tipo Z vendidos: \"))\n",
        "\n",
        "# 2. Calcular los datos de salida\n",
        "valor_total = cantidad_A * 1000 + cantidad_C * 2500 + cantidad_Z * 3000\n",
        "\n",
        "# 3. Mostrar los datos de salida\n",
        "print(\"El valor total recolectado en el día es: $\", valor_total, \"pesos\")\n"
      ],
      "execution_count": null,
      "outputs": [
        {
          "output_type": "stream",
          "name": "stdout",
          "text": [
            "Ingrese la cantidad de productos tipo A vendidos: 66\n",
            "Ingrese la cantidad de productos tipo C vendidos: 56\n",
            "Ingrese la cantidad de productos tipo Z vendidos: 5\n",
            "El valor total recolectado en el día es: $ 221000 pesos\n"
          ]
        }
      ]
    },
    {
      "cell_type": "markdown",
      "metadata": {
        "id": "J1nzY6RwYHLq"
      },
      "source": [
        "---"
      ]
    },
    {
      "cell_type": "markdown",
      "metadata": {
        "id": "EUGivc_RYHLq"
      },
      "source": [
        "## Ejercicio 11\n",
        "\n",
        "Solucione el mismo problema del Ejercicio 10, pero construya una función que resuelva el problema y luego **use la función** en el programa."
      ]
    },
    {
      "cell_type": "markdown",
      "metadata": {
        "id": "tF0SMvZwYHLq"
      },
      "source": [
        "### Modelaje de la función\n",
        "\n",
        "**Datos de Entrada:**\n",
        "\n",
        "Nombre | Identificador | Tipo\n",
        "---|---|---\n",
        "Cantidad de productos tipo A| cantidad_A| int\n",
        "Cantidad de productos tipo B| cantidad_B| int\n",
        "Cantidad de productos tipo Z| cantidad_Z| int\n",
        "\n",
        "**Datos de Salida:**\n",
        "\n",
        "Nombre | Identificador | Tipo\n",
        "---|---|---\n",
        "Valor Total Recolectado| valor_total| float"
      ]
    },
    {
      "cell_type": "code",
      "metadata": {
        "id": "oFQNTm8nYHLq"
      },
      "source": [
        "# Programa en Python que resuelve el Ejercicio 11\n",
        "# Definición de la función\n",
        "def calcular_valor_nota(cantidad_A, cantidad_C, cantidad_Z):\n",
        "    # Calcular los datos de salida\n",
        "    valor_total = cantidad_A * 1000 + cantidad_C * 2500 + cantidad_Z * 3000\n",
        "    return valor_total"
      ],
      "execution_count": null,
      "outputs": []
    },
    {
      "cell_type": "markdown",
      "metadata": {
        "id": "hwy3ttIYYHLq"
      },
      "source": [
        "---"
      ]
    },
    {
      "cell_type": "code",
      "source": [],
      "metadata": {
        "id": "G7kaXmvAEZ4W"
      },
      "execution_count": null,
      "outputs": []
    },
    {
      "cell_type": "markdown",
      "metadata": {
        "id": "Bz0Ec3YjYHLr"
      },
      "source": [
        "## Ejercicio 12\n",
        "\n",
        "Utilizando funciones, escribe el modelaje y un programa en Python que permita obtener el área lateral ($A_L$), el área total ($A_T$) y el volumen de un cono, a partir del valor de la generatriz ($g$), el radio de la base ($r$) y la altura ($h$) del cono. Las fórmulas se presentan en la siguiente figura:\n",
        "\n",
        "![Un cono](https://cuerpossolidosgeometricos1.files.wordpress.com/2012/03/areacono1.jpg?w=300&h=243)"
      ]
    },
    {
      "cell_type": "markdown",
      "metadata": {
        "id": "qNo36n3ZYHLr"
      },
      "source": [
        "## Modelaje de la función que halla el Área Lateral\n",
        "\n",
        "**Datos de Entrada:**\n",
        "\n",
        "Nombre | Identificador | Tipo\n",
        "---|---|---\n",
        "Radio|r|float\n",
        "generatriz|g|float\n",
        "\n",
        "**Datos de Salida:**\n",
        "\n",
        "Nombre | Identificador | Tipo\n",
        "---|---|---\n",
        "Area Lateral|al|float"
      ]
    },
    {
      "cell_type": "code",
      "metadata": {
        "id": "fAvzL6dzYHLr"
      },
      "source": [
        "# Si queremos usar pi, debemos incluir esta librería\n",
        "import math\n",
        "\n",
        "# Función que permite encontrar el área lateral del cono\n",
        "def area_lateral_cono(r, g):\n",
        "  al = math.pi * r * g\n",
        "  return al\n"
      ],
      "execution_count": 1,
      "outputs": []
    },
    {
      "cell_type": "markdown",
      "metadata": {
        "id": "z7CZ8HVVYHLr"
      },
      "source": [
        "## Modelaje de la función que halla el Área Total\n",
        "\n",
        "**Datos de Entrada:**\n",
        "\n",
        "Nombre | Identificador | Tipo\n",
        "---|---|---\n",
        "Radio|r|float\n",
        "Generatriz|g|float\n",
        "\n",
        "**Datos de Salida:**\n",
        "\n",
        "Nombre | Identificador | Tipo\n",
        "---|---|---\n",
        "Area Total|at|float"
      ]
    },
    {
      "cell_type": "code",
      "metadata": {
        "id": "9fyiA_SXYHLs"
      },
      "source": [
        "import math\n",
        "\n",
        "# Función que permite encontrar el área total del cono (puede usarse la función anterior)\n",
        "def area_total_cono(r, g):\n",
        "  at = math.pi * r * (r + g)\n",
        "  return at"
      ],
      "execution_count": 2,
      "outputs": []
    },
    {
      "cell_type": "markdown",
      "metadata": {
        "id": "qjEVsAeWYHLs"
      },
      "source": [
        "## Modelaje de la función que halla el Volumen\n",
        "\n",
        "**Datos de Entrada:**\n",
        "\n",
        "Nombre | Identificador | Tipo\n",
        "---|---|---\n",
        "Radio|r|float\n",
        "Altura|h|float\n",
        "\n",
        "**Datos de Salida:**\n",
        "\n",
        "Nombre | Identificador | Tipo\n",
        "---|---|---\n",
        "Volumen|v|float"
      ]
    },
    {
      "cell_type": "code",
      "metadata": {
        "id": "1AAtdKxMYHLs"
      },
      "source": [
        "import math\n",
        "\n",
        "# Función que permite encontrar el volumen del cono\n",
        "def volumen_cono(r, h):\n",
        "  v = (1/3) * math.pi * r**2 * h\n",
        "  return v"
      ],
      "execution_count": 3,
      "outputs": []
    },
    {
      "cell_type": "markdown",
      "metadata": {
        "id": "y_w0LzEYYHLs"
      },
      "source": [
        "## Modelaje del programa que resuelve el problema\n",
        "\n",
        "**Datos de Entrada:**\n",
        "\n",
        "Nombre | Identificador | Tipo\n",
        "---|---|---\n",
        "\n",
        "\n",
        "**Datos de Salida:**\n",
        "\n",
        "Nombre | Identificador | Tipo\n",
        "---|---|---"
      ]
    },
    {
      "cell_type": "code",
      "metadata": {
        "id": "R99twbrJYHLs",
        "colab": {
          "base_uri": "https://localhost:8080/"
        },
        "outputId": "a110bf09-2a60-4b52-a7a1-6d2f9b5fa518"
      },
      "source": [
        "# Programa en Python que resuelve el Ejercicio 12\n",
        "import math\n",
        "\n",
        "# 1. Leer los datos de entrada\n",
        "radio_cono=float(input(\"Ingrese el radio del cono:\"))\n",
        "altura_cono=float(input(\"Ingrese la altura del cono:\"))\n",
        "generatriz_cono=float(input(\"Ingrese la generatriz del cono:\"))\n",
        "# 2. Calcular los datos de salida, USANDO LAS 3 FUNCIONES ANTERIORES\n",
        "area_base =  math.pi * radio_cono**2\n",
        "area_lateral = area_base + (math.pi * radio_cono * generatriz_cono)\n",
        "area_total = 2 * area_base + area_lateral\n",
        "volumen = (area_base * altura_cono) / 3\n",
        "# 3. Mostrar los datos de salida\n",
        "print (\"El area base es:\", area_base)\n",
        "print (\"El area lateral es:\", area_lateral)\n",
        "print (\"El area total es:\", area_total)\n",
        "print (\"El volumen es:\", volumen)"
      ],
      "execution_count": null,
      "outputs": [
        {
          "output_type": "stream",
          "name": "stdout",
          "text": [
            "Ingrese el radio del cono:45\n",
            "Ingrese la altura del cono:10\n",
            "Ingrese la generatriz del cono:20\n",
            "El area base es: 6361.725123519331\n",
            "El area lateral es: 9189.158511750145\n",
            "El area total es: 21912.608758788807\n",
            "El volumen es: 21205.750411731104\n"
          ]
        }
      ]
    },
    {
      "cell_type": "markdown",
      "metadata": {
        "id": "kw7q3pS8YHLs"
      },
      "source": [
        "---"
      ]
    },
    {
      "cell_type": "markdown",
      "metadata": {
        "id": "2uWZMiHhYHLt"
      },
      "source": [
        "## Ejercicio 13\n",
        "\n",
        "Una empresa constructora vende terrenos con la forma a continuación:\n",
        "\n",
        "![Ejercicio2](https://bit.ly/EAN190201)\n",
        "\n",
        "Realice el modelaje, una serie de funciones y el programa en Python que permita obtener el área y perímetro del respectivo terreno.\n",
        "\n",
        "Comencemos por realizar una serie de funciones que más tarde utilizaremos en el programa.\n",
        "\n",
        "Primero una función que halle el área del rectángulo."
      ]
    },
    {
      "cell_type": "markdown",
      "metadata": {
        "id": "pZvWDkAUYHLt"
      },
      "source": [
        "\n",
        "\n",
        "## Modelaje de la función que encuentra el área y el perímetro de un rectángulo\n",
        "\n",
        "**Datos de Entrada:**\n",
        "\n",
        "Nombre | Identificador | Tipo\n",
        "---|---|---\n",
        "Base|base|float\n",
        "Altura|altura|float\n",
        "\n",
        "**Datos de Salida:**\n",
        "\n",
        "Nombre | Identificador | Tipo\n",
        "---|---|---\n",
        "Area|area|float\n",
        "Perimetro|perimetro|float"
      ]
    },
    {
      "cell_type": "code",
      "metadata": {
        "id": "lyH6EFOuYHLt"
      },
      "source": [
        "def calcular_area_perimetro_rectangulo(base, altura):\n",
        "\n",
        "  area = base * altura\n",
        "  perimetro = 2 * (base + altura)\n",
        "  return area, perimetro"
      ],
      "execution_count": 4,
      "outputs": []
    },
    {
      "cell_type": "markdown",
      "metadata": {
        "id": "rJCIN9TEYHLt"
      },
      "source": [
        "## Modelaje de la función que encuentra la hipotenusa de un triángulo rectangulo a partir de los catetos\n",
        "\n",
        "**Datos de Entrada:**\n",
        "\n",
        "Nombre | Identificador | Tipo\n",
        "---|---|---\n",
        "Lado1|cateto1|float\n",
        "Lado2|cateto2|float\n",
        "\n",
        "**Datos de Salida:**\n",
        "\n",
        "Nombre | Identificador | Tipo\n",
        "---|---|---\n",
        "Hipotenusa|hipotenusa|float"
      ]
    },
    {
      "cell_type": "code",
      "metadata": {
        "id": "Gzzwicu0YHLt"
      },
      "source": [
        "import math\n",
        "\n",
        "def calcular_hipotenusa(cateto1, cateto2):\n",
        "  \"\"\"Calcula la hipotenusa de un triángulo rectángulo.\n",
        "\n",
        "  Args:\n",
        "    cateto1: La longitud del primer cateto.\n",
        "    cateto2: La longitud del segundo cateto.\n",
        "\n",
        "  Returns:\n",
        "    La longitud de la hipotenusa.\n",
        "  \"\"\"\n",
        "  hipotenusa = math.sqrt(cateto1**2 + cateto2**2)\n",
        "  return hipotenusa\n"
      ],
      "execution_count": 5,
      "outputs": []
    },
    {
      "cell_type": "markdown",
      "metadata": {
        "id": "zv2hICqXYHLt"
      },
      "source": [
        "## Modelaje de la función que encuentra el área y el perímetro de un triángulo rectángulo conociendo los 2 catetos\n",
        "\n",
        "**Datos de Entrada:**\n",
        "\n",
        "Nombre | Identificador | Tipo\n",
        "---|---|---\n",
        "Lado1|cateto1|float\n",
        "Lado2|cateto2|float\n",
        "\n",
        "**Datos de Salida:**\n",
        "\n",
        "Nombre | Identificador | Tipo\n",
        "---|---|---\n",
        "Area|area|float\n",
        "Perimetro|perimetro|float"
      ]
    },
    {
      "cell_type": "code",
      "metadata": {
        "id": "FuHGJqueYHLu"
      },
      "source": [
        "import math\n",
        "\n",
        "def calcular_area_perimetro_triangulo_rectangulo(cateto1, cateto2):\n",
        "\n",
        "  hipotenusa = calcular_hipotenusa(cateto1, cateto2)  # Usamos la función anterior\n",
        "  area = (cateto1 * cateto2) / 2\n",
        "  perimetro = cateto1 + cateto2 + hipotenusa\n",
        "  return area, perimetro"
      ],
      "execution_count": 6,
      "outputs": []
    },
    {
      "cell_type": "markdown",
      "metadata": {
        "id": "_7XIUHtcYHLu"
      },
      "source": [
        "## Modelaje de la función que encuentra el área y el perímetro del terreno, a partir de los datos que vemos en la figura\n",
        "\n",
        "**Datos de Entrada:**\n",
        "\n",
        "Nombre | Identificador | Tipo\n",
        "---|---|---\n",
        "Base del rectangulo| base_rectangulo|float\n",
        "Altura del rectangulo| altura_rectangulo|float\n",
        "Lado1 del triangulo| cateto1_triangulo| float\n",
        "Lado2 del triangulo| cateto2_triangulo|float\n",
        "\n",
        "**Datos de Salida:**\n",
        "\n",
        "Nombre | Identificador | Tipo\n",
        "---|---|---\n",
        "Area total|area_total|float\n",
        "Perimetro Total|prerimetro_total|float"
      ]
    },
    {
      "cell_type": "code",
      "metadata": {
        "id": "DKsvkAflYHLu"
      },
      "source": [
        "def calcular_area_perimetro_terreno(base_rectangulo, altura_rectangulo, cateto1_triangulo, cateto2_triangulo):\n",
        "\n",
        "  # Calcular área y perímetro del rectángulo\n",
        "  area_rectangulo, perimetro_rectangulo = calcular_area_perimetro_rectangulo(base_rectangulo, altura_rectangulo)\n",
        "\n",
        "  # Calcular área y perímetro del triángulo rectángulo\n",
        "  area_triangulo, perimetro_triangulo = calcular_area_perimetro_triangulo_rectangulo(cateto1_triangulo, cateto2_triangulo)\n",
        "\n",
        "  # Calcular área total y perímetro total\n",
        "  area_total = area_rectangulo + area_triangulo\n",
        "  perimetro_total = perimetro_rectangulo + perimetro_triangulo - cateto1_triangulo  # Restar cateto1 ya que es un lado compartido\n",
        "\n",
        "  return area_total, perimetro_total"
      ],
      "execution_count": 7,
      "outputs": []
    },
    {
      "cell_type": "markdown",
      "metadata": {
        "id": "YxWA1gy4YHLu"
      },
      "source": [
        "---"
      ]
    },
    {
      "cell_type": "markdown",
      "metadata": {
        "id": "86qxiuAhYHLv"
      },
      "source": [
        "## Ejercicio 14\n",
        "\n",
        "Todo punto del eje cartesiano está descrito por dos elementos: su coordenada $x$ (o «abscisa») y su coordenada $y$ (que también se llama la «ordenada»). Suponga que tenemos las coordenadas $x$ y $y$ de dos puntos: $x_1$ y $y_1$ para el primer punto, y también $x_2$ y $y_2$ para el segundo punto. Queremos encontrar la distancia entre esos dos puntos, pero también la pendiente de la recta que une esos dos puntos, y finalmente, las coordenadas del punto medio entre esos dos puntos.\n",
        "\n",
        "![Dos punto](https://i2.wp.com/www.celeberrima.com/wp-content/uploads/2018/11/Distancia-entre-dos-puntos-geometr%C3%ADa-anal%C3%ADtica-%E2%80%93-F%C3%B3rmula-y-ejemplos.jpg?resize=768%2C551&ssl=1)\n",
        "\n",
        "La distancia se obtiene con la siguiente fórmula:\n",
        "\n",
        "$$\n",
        "d = \\sqrt{(y_2-y_1)^2 + (x_2-x_1)^2}\n",
        "$$\n",
        "\n",
        "La pendiente ($m$) de la recta que une los dos puntos se halla a partir de la siguiente fórmula:\n",
        "\n",
        "$$\n",
        "m = \\frac{y_2-y_1}{x_2-x_1}\n",
        "$$\n",
        "\n",
        "Y las coordenadas del punto medio se obtienen con las siguientes fórmulas:\n",
        "$$\n",
        "x_m = \\frac{x_1+x_2}{2}\\\\\n",
        "y_m = \\frac{y_1+y_2}{2}\n",
        "$$\n",
        "\n",
        "Escriba el modelaje y el programa en Python que permita obtener todos los datos solicitados a partir de las 4 coordenadas. Solucionemos este problema a partir de varias funciones."
      ]
    },
    {
      "cell_type": "markdown",
      "metadata": {
        "id": "rAlUn7cEYHLv"
      },
      "source": [
        "## Modelaje de la función que encuentra la distancia entre dos puntos. Tenga en cuenta que hay 4 datos de entrada: x1, y1, x2 y y2.\n",
        "\n",
        "**Datos de Entrada:**\n",
        "\n",
        "Nombre | Identificador | Tipo\n",
        "---|---|---\n",
        "\n",
        "\n",
        "**Datos de Salida:**\n",
        "\n",
        "Nombre | Identificador | Tipo\n",
        "---|---|---"
      ]
    },
    {
      "cell_type": "code",
      "metadata": {
        "id": "DGuHSL3YYHLv"
      },
      "source": [
        "# Para poder usar raiz cuadrada, necesitamos incluir la siguiente librería\n",
        "import math\n",
        "\n",
        "# Función que halla la distancia entre dos puntos\n",
        "def ...\n"
      ],
      "execution_count": null,
      "outputs": []
    },
    {
      "cell_type": "markdown",
      "metadata": {
        "id": "Gbj0bEzeYHLw"
      },
      "source": [
        "## Modelaje de la función que encuentra la pendiente de la recta que une a los dos puntos. También se reciben las coordenadas de los dos puntos.\n",
        "\n",
        "**Datos de Entrada:**\n",
        "\n",
        "Nombre | Identificador | Tipo\n",
        "---|---|---\n",
        "\n",
        "\n",
        "**Datos de Salida:**\n",
        "\n",
        "Nombre | Identificador | Tipo\n",
        "---|---|---"
      ]
    },
    {
      "cell_type": "code",
      "metadata": {
        "id": "DBJpNu0aYHLw"
      },
      "source": [
        "# Función que halla la pendiente de la recta entre dos puntos\n",
        "import math\n",
        "\n",
        "def calcular_distancia(x1, y1, x2, y2):\n",
        "\n",
        "  distance = math.sqrt((x2 - x1)**2 + (y2 - y1)**2)\n",
        "  return distance\n"
      ],
      "execution_count": 9,
      "outputs": []
    },
    {
      "cell_type": "markdown",
      "metadata": {
        "id": "qJspOHbcYHLw"
      },
      "source": [
        "## Modelaje de la función que encuentra las coordenadas x e y del punto medio de la recta que une dos puntos\n",
        "\n",
        "**Datos de Entrada:**\n",
        "\n",
        "Nombre | Identificador | Tipo\n",
        "---|---|---\n",
        "\n",
        "\n",
        "**Datos de Salida:**\n",
        "\n",
        "Nombre | Identificador | Tipo\n",
        "---|---|---"
      ]
    },
    {
      "cell_type": "code",
      "metadata": {
        "id": "OuJzuXKzYHLw"
      },
      "source": [
        "# Función que encuentra el punto medio de la recta que une dos puntos\n",
        "def calcular_punto_medio(x1, y1, x2, y2):\n",
        "\n",
        "  xm = (x1 + x2) / 2\n",
        "  ym = (y1 + y2) / 2\n",
        "  return xm, ym"
      ],
      "execution_count": 10,
      "outputs": []
    },
    {
      "cell_type": "markdown",
      "metadata": {
        "id": "BEinHIa6YHLw"
      },
      "source": [
        "## Modelaje del programa que soluciona el problema\n",
        "\n",
        "**Datos de Entrada:**\n",
        "\n",
        "Nombre | Identificador | Tipo\n",
        "---|---|---\n",
        "\n",
        "\n",
        "**Datos de Salida:**\n",
        "\n",
        "Nombre | Identificador | Tipo\n",
        "---|---|---"
      ]
    },
    {
      "cell_type": "code",
      "metadata": {
        "id": "mMH21G6-YHLx",
        "colab": {
          "base_uri": "https://localhost:8080/",
          "height": 365
        },
        "outputId": "6dcb0c88-ca95-4cec-ce9c-877ec20901be"
      },
      "source": [
        "import math\n",
        "\n",
        "# ... (previous functions: calcular_distancia, calcular_punto_medio) ...\n",
        "\n",
        "# Programa principal\n",
        "x1 = float(input(\"Ingrese la coordenada x del primer punto: \"))\n",
        "y1 = float(input(\"Ingrese la coordenada y del primer punto: \"))\n",
        "x2 = float(input(\"Ingrese la coordenada x del segundo punto: \"))\n",
        "y2 = float(input(\"Ingrese la coordenada y del segundo punto: \"))\n",
        "\n",
        "# Calcular la distancia\n",
        "distance = calcular_distancia(x1, y1, x2, y2)\n",
        "\n",
        "# Calcular la pendiente\n",
        "if x2 - x1 != 0:  # Evitar división por cero\n",
        "    slope = (y2 - y1) / (x2 - x1)\n",
        "else:\n",
        "    slope = float('inf')  # Pendiente infinita si x2 - x1 = 0\n",
        "\n",
        "# Calcular el punto medio\n",
        "xm, ym = calcular_punto_medio(x1, y1, x2, y2)\n",
        "\n",
        "# Mostrar los resultados\n",
        "print(\"Distancia:\", distance)\n",
        "print(\"Pendiente:\", slope)\n",
        "print(\"Punto medio:\", (xm, ym))\n"
      ],
      "execution_count": 11,
      "outputs": [
        {
          "output_type": "error",
          "ename": "KeyboardInterrupt",
          "evalue": "Interrupted by user",
          "traceback": [
            "\u001b[0;31m---------------------------------------------------------------------------\u001b[0m",
            "\u001b[0;31mKeyboardInterrupt\u001b[0m                         Traceback (most recent call last)",
            "\u001b[0;32m<ipython-input-11-087946d812e5>\u001b[0m in \u001b[0;36m<cell line: 0>\u001b[0;34m()\u001b[0m\n\u001b[1;32m      4\u001b[0m \u001b[0;34m\u001b[0m\u001b[0m\n\u001b[1;32m      5\u001b[0m \u001b[0;31m# Programa principal\u001b[0m\u001b[0;34m\u001b[0m\u001b[0;34m\u001b[0m\u001b[0m\n\u001b[0;32m----> 6\u001b[0;31m \u001b[0mx1\u001b[0m \u001b[0;34m=\u001b[0m \u001b[0mfloat\u001b[0m\u001b[0;34m(\u001b[0m\u001b[0minput\u001b[0m\u001b[0;34m(\u001b[0m\u001b[0;34m\"Ingrese la coordenada x del primer punto: \"\u001b[0m\u001b[0;34m)\u001b[0m\u001b[0;34m)\u001b[0m\u001b[0;34m\u001b[0m\u001b[0;34m\u001b[0m\u001b[0m\n\u001b[0m\u001b[1;32m      7\u001b[0m \u001b[0my1\u001b[0m \u001b[0;34m=\u001b[0m \u001b[0mfloat\u001b[0m\u001b[0;34m(\u001b[0m\u001b[0minput\u001b[0m\u001b[0;34m(\u001b[0m\u001b[0;34m\"Ingrese la coordenada y del primer punto: \"\u001b[0m\u001b[0;34m)\u001b[0m\u001b[0;34m)\u001b[0m\u001b[0;34m\u001b[0m\u001b[0;34m\u001b[0m\u001b[0m\n\u001b[1;32m      8\u001b[0m \u001b[0mx2\u001b[0m \u001b[0;34m=\u001b[0m \u001b[0mfloat\u001b[0m\u001b[0;34m(\u001b[0m\u001b[0minput\u001b[0m\u001b[0;34m(\u001b[0m\u001b[0;34m\"Ingrese la coordenada x del segundo punto: \"\u001b[0m\u001b[0;34m)\u001b[0m\u001b[0;34m)\u001b[0m\u001b[0;34m\u001b[0m\u001b[0;34m\u001b[0m\u001b[0m\n",
            "\u001b[0;32m/usr/local/lib/python3.11/dist-packages/ipykernel/kernelbase.py\u001b[0m in \u001b[0;36mraw_input\u001b[0;34m(self, prompt)\u001b[0m\n\u001b[1;32m    849\u001b[0m                 \u001b[0;34m\"raw_input was called, but this frontend does not support input requests.\"\u001b[0m\u001b[0;34m\u001b[0m\u001b[0;34m\u001b[0m\u001b[0m\n\u001b[1;32m    850\u001b[0m             )\n\u001b[0;32m--> 851\u001b[0;31m         return self._input_request(str(prompt),\n\u001b[0m\u001b[1;32m    852\u001b[0m             \u001b[0mself\u001b[0m\u001b[0;34m.\u001b[0m\u001b[0m_parent_ident\u001b[0m\u001b[0;34m,\u001b[0m\u001b[0;34m\u001b[0m\u001b[0;34m\u001b[0m\u001b[0m\n\u001b[1;32m    853\u001b[0m             \u001b[0mself\u001b[0m\u001b[0;34m.\u001b[0m\u001b[0m_parent_header\u001b[0m\u001b[0;34m,\u001b[0m\u001b[0;34m\u001b[0m\u001b[0;34m\u001b[0m\u001b[0m\n",
            "\u001b[0;32m/usr/local/lib/python3.11/dist-packages/ipykernel/kernelbase.py\u001b[0m in \u001b[0;36m_input_request\u001b[0;34m(self, prompt, ident, parent, password)\u001b[0m\n\u001b[1;32m    893\u001b[0m             \u001b[0;32mexcept\u001b[0m \u001b[0mKeyboardInterrupt\u001b[0m\u001b[0;34m:\u001b[0m\u001b[0;34m\u001b[0m\u001b[0;34m\u001b[0m\u001b[0m\n\u001b[1;32m    894\u001b[0m                 \u001b[0;31m# re-raise KeyboardInterrupt, to truncate traceback\u001b[0m\u001b[0;34m\u001b[0m\u001b[0;34m\u001b[0m\u001b[0m\n\u001b[0;32m--> 895\u001b[0;31m                 \u001b[0;32mraise\u001b[0m \u001b[0mKeyboardInterrupt\u001b[0m\u001b[0;34m(\u001b[0m\u001b[0;34m\"Interrupted by user\"\u001b[0m\u001b[0;34m)\u001b[0m \u001b[0;32mfrom\u001b[0m \u001b[0;32mNone\u001b[0m\u001b[0;34m\u001b[0m\u001b[0;34m\u001b[0m\u001b[0m\n\u001b[0m\u001b[1;32m    896\u001b[0m             \u001b[0;32mexcept\u001b[0m \u001b[0mException\u001b[0m \u001b[0;32mas\u001b[0m \u001b[0me\u001b[0m\u001b[0;34m:\u001b[0m\u001b[0;34m\u001b[0m\u001b[0;34m\u001b[0m\u001b[0m\n\u001b[1;32m    897\u001b[0m                 \u001b[0mself\u001b[0m\u001b[0;34m.\u001b[0m\u001b[0mlog\u001b[0m\u001b[0;34m.\u001b[0m\u001b[0mwarning\u001b[0m\u001b[0;34m(\u001b[0m\u001b[0;34m\"Invalid Message:\"\u001b[0m\u001b[0;34m,\u001b[0m \u001b[0mexc_info\u001b[0m\u001b[0;34m=\u001b[0m\u001b[0;32mTrue\u001b[0m\u001b[0;34m)\u001b[0m\u001b[0;34m\u001b[0m\u001b[0;34m\u001b[0m\u001b[0m\n",
            "\u001b[0;31mKeyboardInterrupt\u001b[0m: Interrupted by user"
          ]
        }
      ]
    },
    {
      "cell_type": "code",
      "metadata": {
        "id": "c2-zVXN9YHLx"
      },
      "source": [],
      "execution_count": null,
      "outputs": []
    },
    {
      "cell_type": "markdown",
      "metadata": {
        "id": "6Nam59iSYHLx"
      },
      "source": [
        "---"
      ]
    },
    {
      "cell_type": "markdown",
      "metadata": {
        "id": "5El_CYIPYHLx"
      },
      "source": [
        "# Ejercicio 15\n",
        "\n",
        "Escriba una función que permita calcular la expansión lineal en una barra de acero a partir de un incremento en la temperatura. La fórmula para encontrar la expansión lineal (llamada $l$) es la siguiente:\n",
        "\n",
        "![Ejercicio 4](https://latex.codecogs.com/png.latex?%5Cdpi%7B200%7D%20%5Cbg_white%20%5Clarge%20l%20%3D%20l_o%5B1&plus;%5Calpha%20%28T_f%20-T_o%29%5D)\n",
        "\n",
        "Donde tenemos que:\n",
        "\n",
        "* $l_o$ es la longitud de la barra de acero a la temperatura inicial $T_o$\n",
        "* $\\alpha$ es el coeficiente de expansión lineal\n",
        "* $T_f$ es la temperatura final de la barra de acero"
      ]
    },
    {
      "cell_type": "markdown",
      "metadata": {
        "id": "eWdTKYQmYHLx"
      },
      "source": [
        "## Modelaje de la función\n",
        "\n",
        "**Datos de Entrada:**\n",
        "\n",
        "Nombre | Identificador | Tipo\n",
        "---|---|---\n",
        "\n",
        "\n",
        "**Datos de Salida:**\n",
        "\n",
        "Nombre | Identificador | Tipo\n",
        "---|---|---"
      ]
    },
    {
      "cell_type": "code",
      "metadata": {
        "id": "uHTkXoZ5YHLy"
      },
      "source": [
        "# Definición de la función que halle la expansión lineal\n",
        "def ...\n"
      ],
      "execution_count": null,
      "outputs": []
    },
    {
      "cell_type": "code",
      "metadata": {
        "id": "RTffusLhYHLy"
      },
      "source": [
        "# Escriba un programa que prueba la función anterior\n",
        "\n",
        "# Programa en Python que resuelve el Ejercicio 15\n",
        "\n",
        "# 1. Leer los datos de entrada\n",
        "def calcular_expansion_lineal(l0, alpha, T0, Tf):\n",
        "\n",
        "# 2. Calcular los datos de salida, USANDO LA FUNCIÓN ANTERIOR\n",
        " l = l0 * (1 + alpha * (Tf - T0))\n",
        "\n",
        "# 3. Mostrar los datos de salida\n",
        " return l\n",
        ""
      ],
      "execution_count": null,
      "outputs": []
    },
    {
      "cell_type": "markdown",
      "metadata": {
        "id": "yM8jy9zCYHLy"
      },
      "source": [
        "---"
      ]
    },
    {
      "cell_type": "markdown",
      "metadata": {
        "id": "X-4MBOD6YHLz"
      },
      "source": [
        "## Ejercicio 16\n",
        "\n",
        "En el nuevo edificio de la universidad, cada piso tendrá el mismo número de salones y suponga que todos los salones del nuevo edificio tendrán el mismo número de pupitres, conocida como la capacidad del salón. Escriba el modelaje, una función y un programa en Python que calcule el número de salones y el número de pisos que tendrá el nuevo edificio a partir de la capacidad del salón y el número de estudiantes que van a sentarse en los pupitres de la universidad a la universidad ."
      ]
    },
    {
      "cell_type": "markdown",
      "metadata": {
        "id": "vcLZW-ZHYHLz"
      },
      "source": [
        "## Modelaje de la función\n",
        "\n",
        "**Datos de Entrada:**\n",
        "\n",
        "Nombre | Identificador | Tipo\n",
        "---|---|---\n",
        "\n",
        "\n",
        "**Datos de Salida:**\n",
        "\n",
        "Nombre | Identificador | Tipo\n",
        "---|---|---"
      ]
    },
    {
      "cell_type": "code",
      "metadata": {
        "id": "bOyU_q1tYHLz",
        "outputId": "8a2d0488-1fe1-4cac-9d59-1806a3f8aea8"
      },
      "source": [
        "import math\n",
        "import math\n",
        "\n",
        "def calcular_salones_pisos(capacidad_salon, num_estudiantes):\n",
        "\n",
        "  # Calcular el número de salones\n",
        "  num_salones = math.ceil(num_estudiantes / capacidad_salon)\n",
        "  # Redondear hacia arriba para asegurar espacio para todos los estudiantes\n",
        "\n",
        "  # Asumir un número de salones por piso (puede ser modificado)\n",
        "  salones_por_piso = 10\n",
        "\n",
        "  # Calcular el número de pisos\n",
        "  num_pisos = math.ceil(num_salones / salones_por_piso)\n",
        "  # Redondear hacia arriba para asegurar espacio para todos los salones\n",
        "\n",
        "  return num_salones, num_pisos\n",
        "# print(math.ceil(26.1))\n",
        "# print(math.floor(26.1))"
      ],
      "execution_count": null,
      "outputs": [
        {
          "output_type": "stream",
          "text": [
            "27\n",
            "26\n"
          ],
          "name": "stdout"
        }
      ]
    },
    {
      "cell_type": "code",
      "metadata": {
        "id": "tRIFc5QUYHL0"
      },
      "source": [
        "# Definición de la función\n",
        "def ...\n"
      ],
      "execution_count": null,
      "outputs": []
    },
    {
      "cell_type": "code",
      "metadata": {
        "id": "zzSDYqW_YHL1"
      },
      "source": [
        "import math\n",
        "\n",
        "# Obtener datos de entrada del usuario\n",
        "capacidad_salon = int(input(\"Ingrese la capacidad de cada salón: \"))\n",
        "num_estudiantes = int(input(\"Ingrese el número total de estudiantes: \"))\n",
        "\n",
        "# Calcular el número de salones y pisos\n",
        "num_salones, num_pisos = calcular_salones_pisos(capacidad_salon, num_estudiantes)\n",
        "\n",
        "# Mostrar los resultados\n",
        "print(\"Número de salones:\", num_salones)\n",
        "print(\"Número de pisos:\", num_pisos)"
      ],
      "execution_count": null,
      "outputs": []
    }
  ]
}