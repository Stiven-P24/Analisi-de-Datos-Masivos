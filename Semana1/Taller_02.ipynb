{
  "cells": [
    {
      "cell_type": "markdown",
      "metadata": {
        "id": "xGiqRO9PpY2H"
      },
      "source": [
        "<h1 align=\"center\">\n",
        "Taller 02 - Operaciones con Listas\n",
        "</h1>"
      ]
    },
    {
      "cell_type": "code",
      "execution_count": 19,
      "metadata": {
        "colab": {
          "base_uri": "https://localhost:8080/"
        },
        "id": "sAj0u0Uto2i5",
        "outputId": "7e1a07fb-195e-4d54-98cd-14babfdb15a5"
      },
      "outputs": [
        {
          "output_type": "stream",
          "name": "stdout",
          "text": [
            "Cantidad de municipios 1122\n"
          ]
        },
        {
          "output_type": "stream",
          "name": "stderr",
          "text": [
            "<ipython-input-19-d12935041f19>:9: FutureWarning: Series.__getitem__ treating keys as positions is deprecated. In a future version, integer keys will always be treated as labels (consistent with DataFrame behavior). To access a value by position, use `ser.iloc[pos]`\n",
            "  mun = (m[0], m[1], m[2], m[3], m[4], False if m[5] == 0 else True)\n"
          ]
        }
      ],
      "source": [
        "# Preparación de los datos para los ejercicios\n",
        "import pandas as pd\n",
        "\n",
        "url = 'https://raw.githubusercontent.com/BrayanTorres2/POO_2022_C1/main/municipios.csv'\n",
        "df = pd.read_csv(url)\n",
        "municipios = []\n",
        "\n",
        "for (_, m) in df.iterrows():\n",
        "    mun = (m[0], m[1], m[2], m[3], m[4], False if m[5] == 0 else True)\n",
        "    municipios.append(mun)\n",
        "print('Cantidad de municipios', len(municipios))"
      ]
    },
    {
      "cell_type": "markdown",
      "metadata": {
        "id": "vOOIp3R-wJK2"
      },
      "source": [
        "## La información de los municipios\n",
        "\n",
        "Tenemos la información de todos los municipios de colombia en una lista de tuplas con la siguiente conformación:\n",
        "\n",
        "* El primer elemento es el código del municipio, un número\n",
        "* El segundo elemento es el nombre del municipio\n",
        "* El tercer elemento es la población urbana del municipio\n",
        "* El cuarto elemento es la población rural del municipio\n",
        "* El quinto elemento es el nombre del departamento donde esta el municipio\n",
        "* El sexto elemento es **True** si el municipio es la capital del departamento y **False** si no se trata de la capital del departamento."
      ]
    },
    {
      "cell_type": "markdown",
      "metadata": {
        "id": "MVX5wO8sw-Gh"
      },
      "source": [
        "---\n",
        "\n",
        "## Ejercicio 01\n",
        "\n",
        "Escriba una función que reciba la lista de municipios como dato de entrada, así como el nombre de un departamento y que retorne cuántos municipios de la lista pertenecen a ese departamento."
      ]
    },
    {
      "cell_type": "code",
      "execution_count": 42,
      "metadata": {
        "colab": {
          "base_uri": "https://localhost:8080/"
        },
        "id": "PEmVsxmzuM38",
        "outputId": "b33bfe14-b515-426d-aa6e-c9a221530795"
      },
      "outputs": [
        {
          "output_type": "stream",
          "name": "stdout",
          "text": [
            "Prueba superada 😎\n"
          ]
        }
      ],
      "source": [
        "def ejercicio01(muns: [(int, str, int, int, str, bool)], nomdepto: str) -> int:\n",
        "    c = 0\n",
        "    for m in muns:\n",
        "      if(m[4]==nomdepto):\n",
        "        c=c+1\n",
        "    return c\n",
        "\n",
        "# ----------------------------------------------------------------------------\n",
        "# Pruebas\n",
        "assert ejercicio01(municipios, 'Amazonas') == 11\n",
        "assert ejercicio01(municipios, 'Boyacá') == 123\n",
        "print('Prueba superada 😎')"
      ]
    },
    {
      "cell_type": "markdown",
      "metadata": {
        "id": "5WNqTarK-J6r"
      },
      "source": [
        "## Ejercicio 02\n",
        "\n",
        "Dada una lista con los municipio de Colombia, retorne una lista con los nombres de los municipios que no tienen población urbana."
      ]
    },
    {
      "cell_type": "code",
      "execution_count": 45,
      "metadata": {
        "colab": {
          "base_uri": "https://localhost:8080/"
        },
        "id": "SGmVOQATxz82",
        "outputId": "0d6f488e-b334-409a-85ac-90bd822c8ef5"
      },
      "outputs": [
        {
          "output_type": "stream",
          "name": "stdout",
          "text": [
            "Prueba superada 👍\n"
          ]
        }
      ],
      "source": [
        "def ejercicio02(municipios: [(int, str, int, int, str, bool)]) -> [str]:\n",
        "    resultado = []\n",
        "    for municipio in municipios:\n",
        "        if municipio[2] == 0:\n",
        "            resultado.append(municipio[1])\n",
        "    return resultado\n",
        "# Prueba del ejercicio 02\n",
        "noms = ejercicio02(municipios)\n",
        "noms.sort()\n",
        "assert noms == ['Barranco Minas', 'Cacahual', 'El Encanto', 'La Chorrera', 'La Guadalupe', 'La Pedrera', 'La Victoria', 'Mapiripana', 'Mirití-Paraná', 'Morichal Nuevo', 'Pacoa', 'Pana Pana', 'Papunaua', 'Puerto Alegría', 'Puerto Arica', 'Puerto Colombia', 'Puerto Santander', 'San Felipe', 'Tarapacá', 'Yavaraté']\n",
        "print(\"Prueba superada 👍\")"
      ]
    },
    {
      "cell_type": "markdown",
      "metadata": {
        "id": "Iop_-nwpAKHP"
      },
      "source": [
        "## Ejercicio 03\n",
        "\n",
        "Escriba una función en Python que reciba la lista con la información de todos los municipios de Colombia, y el nombre de un departamento, y que retorne la suma de la población urbana de todos los municipios de ese departamento, así como la cantidad de municipios que pertenecen a ese departamento también."
      ]
    },
    {
      "cell_type": "code",
      "execution_count": 43,
      "metadata": {
        "colab": {
          "base_uri": "https://localhost:8080/"
        },
        "id": "n4lYS5hR_eAd",
        "outputId": "f36df2bb-283c-41e7-8e25-fc154375bd79"
      },
      "outputs": [
        {
          "output_type": "stream",
          "name": "stdout",
          "text": [
            "Prueba superada 👍\n"
          ]
        }
      ],
      "source": [
        "def ejercicio03(municipios: [(int, str, int, int, str, bool)], dpto: str) -> (int, int):\n",
        "    suma = 0\n",
        "    cont = 0\n",
        "    for m in municipios:\n",
        "       if m[4] == dpto:\n",
        "          suma += m[2]\n",
        "          cont += 1\n",
        "    return (suma, cont)\n",
        "\n",
        "# Prueba de la función 03\n",
        "assert ejercicio03(municipios, \"La Guajira\") == (552_638, 15)\n",
        "assert ejercicio03(municipios, \"Huila\") == (703_936, 37)\n",
        "assert ejercicio03(municipios, \"Atlántico\") == (2_408_093, 23)\n",
        "assert ejercicio03(municipios, \"Antioquia\") == (5_181_668, 125)\n",
        "print(\"Prueba superada 👍\")"
      ]
    },
    {
      "cell_type": "markdown",
      "metadata": {
        "id": "qw57ZixBCtmg"
      },
      "source": [
        "## Ejercicio 04\n",
        "\n",
        "Escriba una función que reciba la lista con la información de todos los municipios del país y el código de un municipio y que retorne el nombre y el departamento del municipio que tiene ese código. Si no existe ese código, deberá retornar el mensaje \"no existe\"."
      ]
    },
    {
      "cell_type": "code",
      "execution_count": 39,
      "metadata": {
        "colab": {
          "base_uri": "https://localhost:8080/"
        },
        "id": "KQlwWG7LBgQs",
        "outputId": "1a8f8a5c-4850-4b3f-ba3d-591c05bc05e1"
      },
      "outputs": [
        {
          "output_type": "stream",
          "name": "stdout",
          "text": [
            "Prueba superada 👍\n"
          ]
        }
      ],
      "source": [
        "def ejercicio04(municipios: [(int, str, int, int, str, bool)], codigo: int) -> (str, str):\n",
        "\n",
        "    for m in municipios:\n",
        "        if m[0] == codigo:\n",
        "          return m[1], m[4]\n",
        "    return 'no existe'\n",
        "\n",
        "# Prueba de la función ejercicio 04\n",
        "assert (ejercicio04(municipios, 438)) == ('Caloto', 'Cauca')\n",
        "assert (ejercicio04(municipios, 7)) == ('Soledad', 'Atlántico')\n",
        "assert (ejercicio04(municipios, 1024)) == ('Alejandría', 'Antioquia')\n",
        "assert (ejercicio04(municipios, 819)) == ('Barichara', 'Santander')\n",
        "assert (ejercicio04(municipios, 1819)) == 'no existe'\n",
        "print(\"Prueba superada 👍\")"
      ]
    },
    {
      "cell_type": "markdown",
      "metadata": {
        "id": "k-SLqWpdF1ie"
      },
      "source": [
        "## Ejercicio 05\n",
        "\n",
        "Escriba una función en Python que reciba una lista con la información de todos los municipios de Colombia y que halle el porcentaje de municipios de la lista que son capitales y cuya población urbana supera el millón de habitantes."
      ]
    },
    {
      "cell_type": "code",
      "execution_count": 33,
      "metadata": {
        "colab": {
          "base_uri": "https://localhost:8080/"
        },
        "id": "5__V2S7ZE_vl",
        "outputId": "0938fa9b-7132-4b18-9fd3-eea82f2a31b7"
      },
      "outputs": [
        {
          "output_type": "stream",
          "name": "stdout",
          "text": [
            "Prueba superada 👍\n"
          ]
        }
      ],
      "source": [
        "import math\n",
        "\n",
        "def ejercicio05(municipios: [(int, str, int, int, str, bool)]) -> float:\n",
        "    contador=0\n",
        "    for _,_,p,_,_,cap in municipios:\n",
        "      if(cap==True and p>1000000):\n",
        "        contador=contador+1\n",
        "    pc=(contador*100)/len(municipios)\n",
        "    return pc\n",
        "\n",
        "# Prueba de la función del ejercicio 5\n",
        "assert math.isclose(ejercicio05(municipios), 0.3565, rel_tol=1e-4)\n",
        "print(\"Prueba superada 👍\")"
      ]
    },
    {
      "cell_type": "markdown",
      "metadata": {
        "id": "3PWcaddGM61l"
      },
      "source": [
        "## Ejercicio 06\n",
        "\n",
        "Escriba una función que reciba la lista con la información de todos los municipios de Colombia y el nombre de un departamento, y que retorne el nombre del municipio de ese departamento que tiene la población urbana más pequeña."
      ]
    },
    {
      "cell_type": "code",
      "execution_count": 23,
      "metadata": {
        "colab": {
          "base_uri": "https://localhost:8080/"
        },
        "id": "8qAQ2SVlL-Rl",
        "outputId": "e25822dc-88cd-4d2f-8a15-8adc973deda6"
      },
      "outputs": [
        {
          "output_type": "stream",
          "name": "stdout",
          "text": [
            "Prueba superada 👍\n"
          ]
        }
      ],
      "source": [
        "\n",
        "def ejercicio06(municipios: [(int, str, int, int, str, bool)], dpto: str) -> str:\n",
        "\n",
        "    poblacion_urbana_mas_pequena = float('inf')\n",
        "    nombre_municipio_poblacion_urbana_mas_pequena = \"\"\n",
        "    for municipio in municipios:\n",
        "        if municipio[4] == dpto:\n",
        "            if municipio[2] < poblacion_urbana_mas_pequena:\n",
        "                poblacion_urbana_mas_pequena = municipio[2]\n",
        "                nombre_municipio_poblacion_urbana_mas_pequena = municipio[1]\n",
        "    return nombre_municipio_poblacion_urbana_mas_pequena\n",
        "\n",
        "# Prueba de la función del ejercicio 06\n",
        "assert (ejercicio06(municipios, 'Santander'))  == 'Jordán'\n",
        "assert (ejercicio06(municipios, 'Boyacá')) == 'Chíquiza'\n",
        "assert (ejercicio06(municipios, 'Magdalena')) == 'San Zenón'\n",
        "assert (ejercicio06(municipios, 'Cundinamarca')) == 'Fúquene'\n",
        "print(\"Prueba superada 👍\")"
      ]
    },
    {
      "cell_type": "markdown",
      "metadata": {
        "id": "-7qiTQ1NPclk"
      },
      "source": [
        "## Ejercicio 07\n",
        "\n",
        "Escriba una función en Python que reciba una lista con la información de todos los municipios de Colombia y dos códigos, y que retorne la suma de la población rural de aquellos municipios cuyo código sea mayor o igual que el primer código y menor o igual que el segundo código."
      ]
    },
    {
      "cell_type": "code",
      "execution_count": 22,
      "metadata": {
        "colab": {
          "base_uri": "https://localhost:8080/"
        },
        "id": "lr2UwOmvOBiT",
        "outputId": "43925afe-89b5-40bf-abe4-8273ba1509da"
      },
      "outputs": [
        {
          "output_type": "stream",
          "name": "stdout",
          "text": [
            "Prueba superada 👍\n"
          ]
        }
      ],
      "source": [
        "def ejercicio07(municipios: [(int, str, int, int, str, bool)], cod1: int, cod2: int) -> int:\n",
        "    suma = 0\n",
        "    for municipio in municipios:\n",
        "        codigo_municipio = municipio[0]\n",
        "        poblacion_rural = municipio[3]\n",
        "        if cod1 <= codigo_municipio <= cod2:\n",
        "            suma += poblacion_rural\n",
        "\n",
        "\n",
        "    return suma\n",
        "\n",
        "# Prueba de la función del ejercicio 07\n",
        "assert (ejercicio07(municipios, 850, 960)) == 416_362\n",
        "assert (ejercicio07(municipios, 1, 10)) == 193_550\n",
        "assert (ejercicio07(municipios, 300, 400)) == 1_217_094\n",
        "print(\"Prueba superada 👍\")"
      ]
    }
  ],
  "metadata": {
    "colab": {
      "provenance": []
    },
    "kernelspec": {
      "display_name": "Python 3",
      "name": "python3"
    }
  },
  "nbformat": 4,
  "nbformat_minor": 0
}